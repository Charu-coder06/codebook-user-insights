{
 "cells": [
  {
   "cell_type": "code",
   "execution_count": 80,
   "id": "d3ea1874-a21d-4bfb-9f0f-9b6d10243c3b",
   "metadata": {},
   "outputs": [],
   "source": [
    "import json"
   ]
  },
  {
   "cell_type": "code",
   "execution_count": 81,
   "id": "686b769f-e41d-422e-98b2-05acc0df601f",
   "metadata": {},
   "outputs": [],
   "source": [
    "def load_data(filename):\n",
    "    with open(filename, \"r\") as f:\n",
    "        data = json.load(f)\n",
    "    return data"
   ]
  },
  {
   "cell_type": "code",
   "execution_count": 84,
   "id": "c1fdefc1-4da7-4fe9-80ea-4abe75ed14a5",
   "metadata": {},
   "outputs": [],
   "source": [
    "data = load_data(\"massive_data.json\")"
   ]
  },
  {
   "cell_type": "code",
   "execution_count": 85,
   "id": "080881c6-c1f5-4d6c-88cd-f120341b4d17",
   "metadata": {},
   "outputs": [
    {
     "data": {
      "text/plain": [
       "{'users': [{'id': 1,\n",
       "   'name': 'Amit',\n",
       "   'friends': [2, 3, 4, 5, 6],\n",
       "   'liked_pages': [101, 102]},\n",
       "  {'id': 2,\n",
       "   'name': 'Priya',\n",
       "   'friends': [1, 3, 5, 6, 7],\n",
       "   'liked_pages': [102, 103]},\n",
       "  {'id': 3,\n",
       "   'name': 'Rahul',\n",
       "   'friends': [1, 2, 4, 7, 8],\n",
       "   'liked_pages': [101, 103]},\n",
       "  {'id': 4, 'name': 'Sara', 'friends': [1, 3, 6, 8, 9], 'liked_pages': [104]},\n",
       "  {'id': 5,\n",
       "   'name': 'Neha',\n",
       "   'friends': [1, 2, 6, 10, 11],\n",
       "   'liked_pages': [102, 105]},\n",
       "  {'id': 6,\n",
       "   'name': 'Vikram',\n",
       "   'friends': [1, 2, 4, 5, 12],\n",
       "   'liked_pages': [106]},\n",
       "  {'id': 7,\n",
       "   'name': 'Kunal',\n",
       "   'friends': [2, 3, 8, 9, 13],\n",
       "   'liked_pages': [101, 107]},\n",
       "  {'id': 8,\n",
       "   'name': 'Anjali',\n",
       "   'friends': [3, 4, 7, 10, 14],\n",
       "   'liked_pages': [103, 108]},\n",
       "  {'id': 9,\n",
       "   'name': 'Ravi',\n",
       "   'friends': [4, 7, 10, 11, 15],\n",
       "   'liked_pages': [104, 109]},\n",
       "  {'id': 10,\n",
       "   'name': 'Sneha',\n",
       "   'friends': [5, 8, 9, 12, 16],\n",
       "   'liked_pages': [110]},\n",
       "  {'id': 11,\n",
       "   'name': 'Arjun',\n",
       "   'friends': [5, 9, 12, 14, 17],\n",
       "   'liked_pages': [105, 111]},\n",
       "  {'id': 12,\n",
       "   'name': 'Meera',\n",
       "   'friends': [6, 10, 11, 13, 18],\n",
       "   'liked_pages': [112]},\n",
       "  {'id': 13,\n",
       "   'name': 'Kabir',\n",
       "   'friends': [7, 12, 14, 15, 19],\n",
       "   'liked_pages': [106, 113]},\n",
       "  {'id': 14,\n",
       "   'name': 'Tanya',\n",
       "   'friends': [8, 11, 13, 16, 20],\n",
       "   'liked_pages': [114]},\n",
       "  {'id': 15,\n",
       "   'name': 'Varun',\n",
       "   'friends': [9, 13, 16, 17, 21],\n",
       "   'liked_pages': [107, 115]},\n",
       "  {'id': 16,\n",
       "   'name': 'Rhea',\n",
       "   'friends': [10, 14, 15, 18, 22],\n",
       "   'liked_pages': [116]},\n",
       "  {'id': 17,\n",
       "   'name': 'Ishan',\n",
       "   'friends': [11, 15, 18, 19, 23],\n",
       "   'liked_pages': [108, 117]},\n",
       "  {'id': 18,\n",
       "   'name': 'Simran',\n",
       "   'friends': [12, 16, 17, 20, 24],\n",
       "   'liked_pages': [118]},\n",
       "  {'id': 19,\n",
       "   'name': 'Pooja',\n",
       "   'friends': [13, 17, 20, 21, 25],\n",
       "   'liked_pages': [109, 119]},\n",
       "  {'id': 20,\n",
       "   'name': 'Yash',\n",
       "   'friends': [14, 18, 19, 22, 26],\n",
       "   'liked_pages': [120]},\n",
       "  {'id': 21,\n",
       "   'name': 'Ananya',\n",
       "   'friends': [15, 19, 22, 23, 27],\n",
       "   'liked_pages': [110, 121]},\n",
       "  {'id': 22,\n",
       "   'name': 'Dev',\n",
       "   'friends': [16, 20, 21, 24, 28],\n",
       "   'liked_pages': [122]},\n",
       "  {'id': 23,\n",
       "   'name': 'Aditi',\n",
       "   'friends': [17, 21, 24, 25, 29],\n",
       "   'liked_pages': [111, 123]},\n",
       "  {'id': 24,\n",
       "   'name': 'Rohan',\n",
       "   'friends': [18, 22, 23, 26, 30],\n",
       "   'liked_pages': [124]},\n",
       "  {'id': 25,\n",
       "   'name': 'Nisha',\n",
       "   'friends': [19, 23, 26, 27, 1],\n",
       "   'liked_pages': [112]},\n",
       "  {'id': 26,\n",
       "   'name': 'Gautam',\n",
       "   'friends': [20, 24, 25, 28, 3],\n",
       "   'liked_pages': [125]},\n",
       "  {'id': 27,\n",
       "   'name': 'Kriti',\n",
       "   'friends': [21, 25, 28, 29, 5],\n",
       "   'liked_pages': [113]},\n",
       "  {'id': 28,\n",
       "   'name': 'Harsh',\n",
       "   'friends': [22, 26, 27, 30, 7],\n",
       "   'liked_pages': [126]},\n",
       "  {'id': 29,\n",
       "   'name': 'Naveen',\n",
       "   'friends': [23, 27, 30, 9, 11],\n",
       "   'liked_pages': [114]},\n",
       "  {'id': 30,\n",
       "   'name': 'Ishita',\n",
       "   'friends': [24, 28, 29, 13, 15],\n",
       "   'liked_pages': [127]}],\n",
       " 'pages': [{'id': 101, 'name': 'Python Developers'},\n",
       "  {'id': 102, 'name': 'Data Science Enthusiasts'},\n",
       "  {'id': 103, 'name': 'AI & ML Community'},\n",
       "  {'id': 104, 'name': 'Web Dev Hub'},\n",
       "  {'id': 105, 'name': 'Blockchain Innovators'},\n",
       "  {'id': 106, 'name': 'Cybersecurity Experts'},\n",
       "  {'id': 107, 'name': 'Cloud Computing Pros'},\n",
       "  {'id': 108, 'name': 'Competitive Programmers'},\n",
       "  {'id': 109, 'name': 'Startup Founders'},\n",
       "  {'id': 110, 'name': 'UI/UX Designers'},\n",
       "  {'id': 111, 'name': 'Full-Stack Developers'},\n",
       "  {'id': 112, 'name': 'Tech Entrepreneurs'},\n",
       "  {'id': 113, 'name': 'IoT Enthusiasts'},\n",
       "  {'id': 114, 'name': 'Game Developers'},\n",
       "  {'id': 115, 'name': 'Big Data Analysts'},\n",
       "  {'id': 116, 'name': 'DevOps Engineers'},\n",
       "  {'id': 117, 'name': 'Cloud AI Researchers'},\n",
       "  {'id': 118, 'name': '5G & Edge Computing'},\n",
       "  {'id': 119, 'name': 'AR/VR Creators'},\n",
       "  {'id': 120, 'name': 'Freelance Coders'},\n",
       "  {'id': 121, 'name': 'Open Source Contributors'},\n",
       "  {'id': 122, 'name': 'Algorithmic Traders'},\n",
       "  {'id': 123, 'name': 'Low-Code Developers'},\n",
       "  {'id': 124, 'name': 'Cyber Ethics Forum'},\n",
       "  {'id': 125, 'name': 'AI Ethics & Policy'},\n",
       "  {'id': 126, 'name': 'Digital Nomads'},\n",
       "  {'id': 127, 'name': 'Women in Tech'}]}"
      ]
     },
     "execution_count": 85,
     "metadata": {},
     "output_type": "execute_result"
    }
   ],
   "source": [
    "data"
   ]
  },
  {
   "cell_type": "code",
   "execution_count": 129,
   "id": "e373a491-647b-4c7f-b0f8-602a4f7cc352",
   "metadata": {},
   "outputs": [],
   "source": [
    "def people_you_may_know(user_id, data):\n",
    "    user_friends = {}\n",
    "    for user in data['users']:\n",
    "        user_friends[user['id']] = set(user['friends'])\n",
    "    if user_id not in user_friends:\n",
    "        return []\n",
    "    direct_friends =user_friends[user_id]\n",
    "    # suggestions = []\n",
    "    # for friend in direct_friends:\n",
    "        \n",
    "    #     suggestions.extend(user_friends[friend])\n",
    "    # suggestions = [t for t in suggestions if t != user_id]\n",
    "    # return set(suggestions)\n",
    "    suggestions = {}\n",
    "    for friend in direct_friends:\n",
    "        for mutual in user_friends[friend]:\n",
    "            if mutual != user_id and mutual not in direct_friends:\n",
    "                \n",
    "                suggestions[mutual] = suggestions.get(mutual,0) + 1\n",
    "    sorted_suggestions = sorted(suggestions.items(), key= lambda x:x[1], reverse = True)\n",
    "    return [user_id for user_id, _ in sorted_suggestions]"
   ]
  },
  {
   "cell_type": "code",
   "execution_count": 130,
   "id": "9e756408-960e-4d7d-a76b-19edef2fff1e",
   "metadata": {},
   "outputs": [
    {
     "data": {
      "text/plain": [
       "[7, 8, 9, 10, 11, 12]"
      ]
     },
     "execution_count": 130,
     "metadata": {},
     "output_type": "execute_result"
    }
   ],
   "source": [
    "people_you_may_know(1,data)"
   ]
  },
  {
   "cell_type": "code",
   "execution_count": 131,
   "id": "4c8bdb9f-10d7-4218-aef0-dfe3f1ed53d5",
   "metadata": {},
   "outputs": [
    {
     "name": "stdout",
     "output_type": "stream",
     "text": [
      "ID: 1 People you may know [7, 8, 9, 10, 11, 12]\n",
      "ID: 2 People you may know [4, 8, 10, 11, 12, 9, 13]\n",
      "ID: 3 People you may know [6, 5, 9, 13, 10, 14]\n",
      "ID: 4 People you may know [2, 7, 5, 10, 12, 14, 11, 15]\n",
      "ID: 5 People you may know [12, 3, 4, 9, 7, 8, 16, 14, 17]\n",
      "ID: 6 People you may know [3, 10, 11, 7, 8, 9, 13, 18]\n",
      "ID: 7 People you may know [4, 1, 10, 14, 15, 5, 6, 11, 12, 19]\n",
      "ID: 8 People you may know [9, 1, 2, 13, 16, 6, 5, 12, 11, 20]\n",
      "ID: 9 People you may know [8, 3, 13, 5, 12, 16, 17, 1, 6, 2, 14, 21]\n",
      "ID: 10 People you may know [11, 6, 4, 7, 14, 15, 18, 1, 2, 3, 13, 22]\n",
      "ID: 11 People you may know [10, 6, 15, 13, 18, 1, 2, 4, 7, 8, 16, 20, 19, 23]\n",
      "ID: 12 People you may know [5, 9, 16, 14, 17, 1, 2, 4, 8, 7, 15, 19, 20, 24]\n",
      "ID: 13 People you may know [8, 9, 11, 16, 20, 17, 21, 2, 3, 6, 10, 18, 25]\n",
      "ID: 14 People you may know [7, 10, 12, 15, 19, 18, 22, 3, 4, 5, 9, 17, 26]\n",
      "ID: 15 People you may know [19, 7, 10, 11, 14, 18, 22, 23, 4, 12, 27]\n",
      "ID: 16 People you may know [20, 8, 9, 12, 13, 17, 21, 24, 5, 11, 28]\n",
      "ID: 17 People you may know [21, 9, 12, 13, 16, 20, 24, 25, 5, 14, 29]\n",
      "ID: 18 People you may know [22, 10, 11, 14, 15, 19, 23, 26, 6, 13, 30]\n",
      "ID: 19 People you may know [15, 23, 14, 18, 22, 26, 27, 7, 12, 11, 1]\n",
      "ID: 20 People you may know [16, 24, 13, 17, 21, 25, 28, 8, 11, 12, 3]\n",
      "ID: 21 People you may know [17, 25, 13, 16, 20, 24, 28, 29, 9, 5]\n",
      "ID: 22 People you may know [18, 26, 14, 15, 19, 23, 27, 30, 10, 7]\n",
      "ID: 23 People you may know [19, 27, 11, 15, 18, 22, 26, 30, 1, 9]\n",
      "ID: 24 People you may know [20, 28, 16, 17, 21, 25, 29, 12, 3, 13, 15]\n",
      "ID: 25 People you may know [21, 3, 5, 17, 20, 24, 29, 28, 2, 4, 6, 13]\n",
      "ID: 26 People you may know [22, 1, 7, 18, 19, 23, 30, 27, 2, 4, 8, 14]\n",
      "ID: 27 People you may know [23, 1, 11, 19, 22, 26, 30, 2, 6, 10, 15, 7, 9]\n",
      "ID: 28 People you may know [24, 3, 13, 20, 21, 25, 29, 2, 8, 9, 16, 5, 15]\n",
      "ID: 29 People you may know [15, 5, 17, 21, 24, 25, 28, 4, 7, 10, 12, 14, 13]\n",
      "ID: 30 People you may know [7, 9, 22, 23, 26, 27, 12, 14, 19, 16, 17, 21, 18, 11]\n"
     ]
    }
   ],
   "source": [
    "for user in data['users']:\n",
    "    print(f\"ID: {user['id']} People you may know {people_you_may_know(user['id'], data)}\")"
   ]
  },
  {
   "cell_type": "code",
   "execution_count": null,
   "id": "858ba7fd-5c9a-4225-af89-606333418651",
   "metadata": {},
   "outputs": [],
   "source": []
  },
  {
   "cell_type": "code",
   "execution_count": null,
   "id": "3c3ca6ce-f616-4950-9826-cc56609ec21d",
   "metadata": {},
   "outputs": [],
   "source": []
  }
 ],
 "metadata": {
  "kernelspec": {
   "display_name": "Python [conda env:base] *",
   "language": "python",
   "name": "conda-base-py"
  },
  "language_info": {
   "codemirror_mode": {
    "name": "ipython",
    "version": 3
   },
   "file_extension": ".py",
   "mimetype": "text/x-python",
   "name": "python",
   "nbconvert_exporter": "python",
   "pygments_lexer": "ipython3",
   "version": "3.12.7"
  }
 },
 "nbformat": 4,
 "nbformat_minor": 5
}
