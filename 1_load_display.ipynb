{
 "cells": [
  {
   "cell_type": "code",
   "execution_count": 18,
   "id": "f3270039-f919-4d7d-89c3-fdd5c570053f",
   "metadata": {},
   "outputs": [],
   "source": [
    "import json"
   ]
  },
  {
   "cell_type": "code",
   "execution_count": 19,
   "id": "97a843a2-7c02-4e51-bfc8-a08c37cfa9bd",
   "metadata": {},
   "outputs": [],
   "source": [
    "#This function load the data\n",
    "def load_data(filename):\n",
    "    with open(filename, \"r\") as f:\n",
    "        data = json.load(f)\n",
    "    return data"
   ]
  },
  {
   "cell_type": "code",
   "execution_count": 20,
   "id": "de91ea28-6763-48e0-9b49-984d5be46188",
   "metadata": {},
   "outputs": [],
   "source": [
    "data = load_data(\"codebook_data.json\")"
   ]
  },
  {
   "cell_type": "code",
   "execution_count": 21,
   "id": "d57f5d44-4474-4aa7-bf8b-0df2b320b543",
   "metadata": {},
   "outputs": [],
   "source": [
    "#Write a function to display users and their connections\n",
    "def display_users(data):\n",
    "    print(\"Users Details \\n\")\n",
    "    for user in data['users']:\n",
    "        print(f\"ID: {user['id']} {user['name']} is freinds with {user['friends']} and liked pages {user['liked_pages']}\")\n",
    "    print(\"\\nPages Details: \\n\")\n",
    "    for page in data['pages']:\n",
    "        print(f\"ID: {page['id']} {page['name']}\")"
   ]
  },
  {
   "cell_type": "code",
   "execution_count": 22,
   "id": "23d1a7c7-6ee1-4d62-ad8f-8df216b7af1a",
   "metadata": {},
   "outputs": [
    {
     "name": "stdout",
     "output_type": "stream",
     "text": [
      "Users Details \n",
      "\n",
      "ID: 1 Amit is freinds with [2, 3, 4, 5, 6] and liked pages [101, 102]\n",
      "ID: 2 Priya is freinds with [1, 3, 5, 6, 7] and liked pages [102, 103]\n",
      "ID: 3 Rahul is freinds with [1, 2, 4, 7, 8] and liked pages [101, 103]\n",
      "ID: 4 Sara is freinds with [] and liked pages [104]\n",
      "ID: 5 Neha is freinds with [1, 2, 6, 10, 11] and liked pages []\n",
      "ID: 6 Vikram is freinds with [1, 2, 4, 5, 12] and liked pages [106]\n",
      "ID: 7 Kunal is freinds with [2, 3, 8, 9, 13] and liked pages [101, 107]\n",
      "ID: 8 Anjali is freinds with [3, 4, 7, 10, 14] and liked pages [103, 108]\n",
      "ID: 9 Ravi is freinds with [4, 7, 10, 11, 15] and liked pages [104, 109]\n",
      "ID: 10 Sneha is freinds with [5, 8, 9, 12, 16] and liked pages [110]\n",
      "ID: 11 Arjun is freinds with [5, 9, 12, 14, 17] and liked pages [105, 111]\n",
      "ID: 12 Meera is freinds with [6, 10, 11, 13, 18] and liked pages [112]\n",
      "ID: 13 Kabir is freinds with [7, 12, 14, 15, 19] and liked pages [106, 113]\n",
      "ID: 14 Tanya is freinds with [8, 11, 13, 16, 20] and liked pages [114]\n",
      "ID: 15 Varun is freinds with [9, 13, 16, 17, 21] and liked pages [107, 115]\n",
      "ID: 16 Rhea is freinds with [10, 14, 15, 18, 22] and liked pages [116]\n",
      "ID: 17 Ishan is freinds with [11, 15, 18, 19, 23] and liked pages [108, 117]\n",
      "ID: 18 Simran is freinds with [12, 16, 17, 20, 24] and liked pages [118]\n",
      "ID: 19 Pooja is freinds with [13, 17, 20, 21, 25] and liked pages [109, 119]\n",
      "ID: 20 Yash is freinds with [14, 18, 19, 22, 26] and liked pages [120]\n",
      "ID: 21 Ananya is freinds with [15, 19, 22, 23, 27] and liked pages [110, 121]\n",
      "ID: 22 Dev is freinds with [16, 20, 21, 24, 28] and liked pages [122]\n",
      "ID: 23 Aditi is freinds with [17, 21, 24, 25, 29] and liked pages [111, 123]\n",
      "ID: 24 Rohan is freinds with [18, 22, 23, 26, 30] and liked pages [124]\n",
      "ID: 25 Nisha is freinds with [19, 23, 26, 27, 1] and liked pages [112]\n",
      "ID: 26 Gautam is freinds with [20, 24, 25, 28, 3] and liked pages [125]\n",
      "ID: 27 Kriti is freinds with [21, 25, 28, 29, 5] and liked pages [113]\n",
      "ID: 28 Harsh is freinds with [22, 26, 27, 30, 7] and liked pages [126]\n",
      "ID: 29 Naveen is freinds with [23, 27, 30, 9, 11] and liked pages [114]\n",
      "ID: 30 Ishita is freinds with [] and liked pages []\n",
      "\n",
      "Pages Details: \n",
      "\n",
      "ID: 101 Python Developers\n",
      "ID: 102 Data Science Enthusiasts\n",
      "ID: 103 AI & ML Community\n",
      "ID: 104 Web Dev Hub\n",
      "ID: 105 Blockchain Innovators\n",
      "ID: 106 Cybersecurity Experts\n",
      "ID: 107 Cloud Computing Pros\n",
      "ID: 108 Competitive Programmers\n",
      "ID: 109 Startup Founders\n",
      "ID: 110 UI/UX Designers\n",
      "ID: 111 Full-Stack Developers\n",
      "ID: 111 Full-Stack Devs\n",
      "ID: 112 Tech Entrepreneurs\n",
      "ID: 113 IoT Enthusiasts\n",
      "ID: 114 Game Developers\n",
      "ID: 115 Big Data Analysts\n",
      "ID: 116 DevOps Engineers\n",
      "ID: 117 Cloud AI Researchers\n",
      "ID: 118 5G & Edge Computing\n",
      "ID: 119 AR/VR Creators\n",
      "ID: 120 Freelance Coders\n",
      "ID: 121 Open Source Contributors\n",
      "ID: 122 Algorithmic Traders\n",
      "ID: 123 Low-Code Developers\n",
      "ID: 124 Cyber Ethics Forum\n",
      "ID: 125 AI Ethics & Policy\n",
      "ID: 126 Digital Nomads\n",
      "ID: 127 Women in Tech\n",
      "ID: 127 Women in Technology\n"
     ]
    }
   ],
   "source": [
    "display_users(data)"
   ]
  },
  {
   "cell_type": "code",
   "execution_count": null,
   "id": "c7d21838-9ef3-4004-9c66-2cbd5d130e53",
   "metadata": {},
   "outputs": [],
   "source": []
  }
 ],
 "metadata": {
  "kernelspec": {
   "display_name": "Python [conda env:base] *",
   "language": "python",
   "name": "conda-base-py"
  },
  "language_info": {
   "codemirror_mode": {
    "name": "ipython",
    "version": 3
   },
   "file_extension": ".py",
   "mimetype": "text/x-python",
   "name": "python",
   "nbconvert_exporter": "python",
   "pygments_lexer": "ipython3",
   "version": "3.12.7"
  }
 },
 "nbformat": 4,
 "nbformat_minor": 5
}
