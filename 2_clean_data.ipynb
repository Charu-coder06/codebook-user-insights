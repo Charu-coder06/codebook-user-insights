{
 "cells": [
  {
   "cell_type": "code",
   "execution_count": 14,
   "id": "4ee8d9d3-416d-4787-a863-bf086640c646",
   "metadata": {},
   "outputs": [],
   "source": [
    "import json"
   ]
  },
  {
   "cell_type": "code",
   "execution_count": 15,
   "id": "0bf60cf6-dde2-4185-a53b-95a83c873fbb",
   "metadata": {},
   "outputs": [],
   "source": [
    "def load_data(filename):\n",
    "    with open(filename, \"r\") as f:\n",
    "        data = json.load(f)\n",
    "    return data"
   ]
  },
  {
   "cell_type": "code",
   "execution_count": 16,
   "id": "b5bd11ea-5437-4737-a042-40a9754e9ed9",
   "metadata": {},
   "outputs": [],
   "source": [
    "data = load_data(\"codebook_data.json\")"
   ]
  },
  {
   "cell_type": "code",
   "execution_count": 17,
   "id": "ca314224-5098-4cf2-92e2-9b10828d78f9",
   "metadata": {},
   "outputs": [
    {
     "data": {
      "text/plain": [
       "{'users': [{'id': 1,\n",
       "   'name': 'Amit',\n",
       "   'friends': [2, 3, 4, 5, 6],\n",
       "   'liked_pages': [101, 102]},\n",
       "  {'id': 2,\n",
       "   'name': 'Priya',\n",
       "   'friends': [1, 3, 5, 6, 7],\n",
       "   'liked_pages': [102, 103]},\n",
       "  {'id': 3,\n",
       "   'name': 'Rahul',\n",
       "   'friends': [1, 2, 4, 7, 8],\n",
       "   'liked_pages': [101, 103]},\n",
       "  {'id': 4, 'name': 'Sara', 'friends': [], 'liked_pages': [104]},\n",
       "  {'id': 5, 'name': 'Neha', 'friends': [1, 2, 6, 10, 11], 'liked_pages': []},\n",
       "  {'id': 6,\n",
       "   'name': 'Vikram',\n",
       "   'friends': [1, 2, 4, 5, 12],\n",
       "   'liked_pages': [106]},\n",
       "  {'id': 7,\n",
       "   'name': 'Kunal',\n",
       "   'friends': [2, 3, 8, 9, 13],\n",
       "   'liked_pages': [101, 107]},\n",
       "  {'id': 8,\n",
       "   'name': 'Anjali',\n",
       "   'friends': [3, 4, 7, 10, 14],\n",
       "   'liked_pages': [103, 108]},\n",
       "  {'id': 9,\n",
       "   'name': 'Ravi',\n",
       "   'friends': [4, 7, 10, 11, 15],\n",
       "   'liked_pages': [104, 109]},\n",
       "  {'id': 10,\n",
       "   'name': 'Sneha',\n",
       "   'friends': [5, 8, 9, 12, 16],\n",
       "   'liked_pages': [110]},\n",
       "  {'id': 11,\n",
       "   'name': 'Arjun',\n",
       "   'friends': [5, 9, 12, 14, 17],\n",
       "   'liked_pages': [105, 111]},\n",
       "  {'id': 12,\n",
       "   'name': 'Meera',\n",
       "   'friends': [6, 10, 11, 13, 18],\n",
       "   'liked_pages': [112]},\n",
       "  {'id': 13,\n",
       "   'name': 'Kabir',\n",
       "   'friends': [7, 12, 14, 15, 19],\n",
       "   'liked_pages': [106, 113]},\n",
       "  {'id': 14,\n",
       "   'name': 'Tanya',\n",
       "   'friends': [8, 11, 13, 16, 20],\n",
       "   'liked_pages': [114]},\n",
       "  {'id': 15,\n",
       "   'name': 'Varun',\n",
       "   'friends': [9, 13, 16, 17, 21],\n",
       "   'liked_pages': [107, 115]},\n",
       "  {'id': 16,\n",
       "   'name': 'Rhea',\n",
       "   'friends': [10, 14, 15, 18, 22],\n",
       "   'liked_pages': [116]},\n",
       "  {'id': 17,\n",
       "   'name': 'Ishan',\n",
       "   'friends': [11, 15, 18, 19, 23],\n",
       "   'liked_pages': [108, 117]},\n",
       "  {'id': 18,\n",
       "   'name': 'Simran',\n",
       "   'friends': [12, 16, 17, 20, 24],\n",
       "   'liked_pages': [118]},\n",
       "  {'id': 19,\n",
       "   'name': 'Pooja',\n",
       "   'friends': [13, 17, 20, 21, 25],\n",
       "   'liked_pages': [109, 119]},\n",
       "  {'id': 20,\n",
       "   'name': 'Yash',\n",
       "   'friends': [14, 18, 19, 22, 26],\n",
       "   'liked_pages': [120]},\n",
       "  {'id': 21,\n",
       "   'name': 'Ananya',\n",
       "   'friends': [15, 19, 22, 23, 27],\n",
       "   'liked_pages': [110, 121]},\n",
       "  {'id': 22,\n",
       "   'name': 'Dev',\n",
       "   'friends': [16, 20, 21, 24, 28],\n",
       "   'liked_pages': [122]},\n",
       "  {'id': 23,\n",
       "   'name': 'Aditi',\n",
       "   'friends': [17, 21, 24, 25, 29],\n",
       "   'liked_pages': [111, 123]},\n",
       "  {'id': 24,\n",
       "   'name': 'Rohan',\n",
       "   'friends': [18, 22, 23, 26, 30],\n",
       "   'liked_pages': [124]},\n",
       "  {'id': 25,\n",
       "   'name': 'Nisha',\n",
       "   'friends': [19, 23, 26, 27, 1],\n",
       "   'liked_pages': [112]},\n",
       "  {'id': 26,\n",
       "   'name': 'Gautam',\n",
       "   'friends': [20, 24, 25, 28, 3],\n",
       "   'liked_pages': [125]},\n",
       "  {'id': 27,\n",
       "   'name': 'Kriti',\n",
       "   'friends': [21, 25, 28, 29, 5],\n",
       "   'liked_pages': [113]},\n",
       "  {'id': 28,\n",
       "   'name': 'Harsh',\n",
       "   'friends': [22, 26, 27, 30, 7],\n",
       "   'liked_pages': [126]},\n",
       "  {'id': 29,\n",
       "   'name': 'Naveen',\n",
       "   'friends': [23, 27, 30, 9, 11],\n",
       "   'liked_pages': [114]},\n",
       "  {'id': 30, 'name': 'Ishita', 'friends': [], 'liked_pages': []}],\n",
       " 'pages': [{'id': 101, 'name': 'Python Developers'},\n",
       "  {'id': 102, 'name': 'Data Science Enthusiasts'},\n",
       "  {'id': 103, 'name': 'AI & ML Community'},\n",
       "  {'id': 104, 'name': 'Web Dev Hub'},\n",
       "  {'id': 105, 'name': 'Blockchain Innovators'},\n",
       "  {'id': 106, 'name': 'Cybersecurity Experts'},\n",
       "  {'id': 107, 'name': 'Cloud Computing Pros'},\n",
       "  {'id': 108, 'name': 'Competitive Programmers'},\n",
       "  {'id': 109, 'name': 'Startup Founders'},\n",
       "  {'id': 110, 'name': 'UI/UX Designers'},\n",
       "  {'id': 111, 'name': 'Full-Stack Developers'},\n",
       "  {'id': 111, 'name': 'Full-Stack Devs'},\n",
       "  {'id': 112, 'name': 'Tech Entrepreneurs'},\n",
       "  {'id': 113, 'name': 'IoT Enthusiasts'},\n",
       "  {'id': 114, 'name': 'Game Developers'},\n",
       "  {'id': 115, 'name': 'Big Data Analysts'},\n",
       "  {'id': 116, 'name': 'DevOps Engineers'},\n",
       "  {'id': 117, 'name': 'Cloud AI Researchers'},\n",
       "  {'id': 118, 'name': '5G & Edge Computing'},\n",
       "  {'id': 119, 'name': 'AR/VR Creators'},\n",
       "  {'id': 120, 'name': 'Freelance Coders'},\n",
       "  {'id': 121, 'name': 'Open Source Contributors'},\n",
       "  {'id': 122, 'name': 'Algorithmic Traders'},\n",
       "  {'id': 123, 'name': 'Low-Code Developers'},\n",
       "  {'id': 124, 'name': 'Cyber Ethics Forum'},\n",
       "  {'id': 125, 'name': 'AI Ethics & Policy'},\n",
       "  {'id': 126, 'name': 'Digital Nomads'},\n",
       "  {'id': 127, 'name': 'Women in Tech'},\n",
       "  {'id': 127, 'name': 'Women in Technology'}]}"
      ]
     },
     "execution_count": 17,
     "metadata": {},
     "output_type": "execute_result"
    }
   ],
   "source": [
    "data"
   ]
  },
  {
   "cell_type": "code",
   "execution_count": 5,
   "id": "7f33ef3a-7056-436c-94a7-9ac2eb862b36",
   "metadata": {},
   "outputs": [],
   "source": [
    "# Problems:\n",
    "# User ID 3 has an empty name.\n",
    "# User ID 4 has a duplicate friend entry.\n",
    "# User ID 5 has no connections or liked pages (inactive user).\n",
    "# The pages list contains duplicate page IDs."
   ]
  },
  {
   "cell_type": "code",
   "execution_count": 18,
   "id": "4c7e90b8-35b0-4259-8f4a-a8459931b141",
   "metadata": {},
   "outputs": [],
   "source": [
    "def clean_data(data):\n",
    "    #Removing empty names\n",
    "    data['users'] = [user for user in data['users'] if user[\"name\"].strip()]\n",
    "\n",
    "    #Removing empty friends list or liked_pages list\n",
    "    data['users'] = [user for user in data['users'] if user['friends'] or user['liked_pages'] ]\n",
    "\n",
    "    #Remove duplicates from friends list or liked_pages\n",
    "    for user in data['users']:\n",
    "        user['friends'] = list(set(user['friends']))\n",
    "\n",
    "    #Remove the pages list contains duplicate page IDs.\n",
    "    unique_pages = {}\n",
    "    for page in data['pages']:\n",
    "        unique_pages[page['id']] = page\n",
    "    data['pages'] = list(unique_pages.values())\n",
    "    \n",
    "    return data"
   ]
  },
  {
   "cell_type": "code",
   "execution_count": 19,
   "id": "edbc0aaa-010c-429e-8fa3-e4e5cc3bce87",
   "metadata": {},
   "outputs": [],
   "source": [
    "final_data = clean_data(data)"
   ]
  },
  {
   "cell_type": "code",
   "execution_count": 20,
   "id": "acac5e54-1a49-4a97-b036-9bea9604d9c5",
   "metadata": {},
   "outputs": [],
   "source": [
    "def dump_data(data, filename):\n",
    "    json.dump(data, open(filename, \"w\"), indent = 4 )\n",
    "    print(\"Data dumped\")"
   ]
  },
  {
   "cell_type": "code",
   "execution_count": 21,
   "id": "08e07810-b3f5-42ec-83a6-cb71e5a2fc47",
   "metadata": {},
   "outputs": [
    {
     "name": "stdout",
     "output_type": "stream",
     "text": [
      "Data dumped\n"
     ]
    }
   ],
   "source": [
    "dump_data(final_data, \"cleaned_codebook_data.json\")"
   ]
  },
  {
   "cell_type": "code",
   "execution_count": null,
   "id": "1abd3df8-5cb1-4b96-a2df-db284d7ecc8f",
   "metadata": {},
   "outputs": [],
   "source": []
  },
  {
   "cell_type": "code",
   "execution_count": null,
   "id": "61c5b820-7af5-4b65-813d-6614da618f0e",
   "metadata": {},
   "outputs": [],
   "source": []
  }
 ],
 "metadata": {
  "kernelspec": {
   "display_name": "Python [conda env:base] *",
   "language": "python",
   "name": "conda-base-py"
  },
  "language_info": {
   "codemirror_mode": {
    "name": "ipython",
    "version": 3
   },
   "file_extension": ".py",
   "mimetype": "text/x-python",
   "name": "python",
   "nbconvert_exporter": "python",
   "pygments_lexer": "ipython3",
   "version": "3.12.7"
  }
 },
 "nbformat": 4,
 "nbformat_minor": 5
}
